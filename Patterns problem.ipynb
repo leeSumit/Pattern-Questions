{
 "cells": [
  {
   "cell_type": "code",
   "execution_count": 1,
   "metadata": {},
   "outputs": [
    {
     "name": "stdout",
     "output_type": "stream",
     "text": [
      "1 2 3 \n",
      "1 2 3 \n",
      "1 2 3 \n"
     ]
    }
   ],
   "source": [
    "for i in range(1, 4):\n",
    "    for j in range(1, 4):\n",
    "        print(j, end=' ')\n",
    "    print()\n"
   ]
  },
  {
   "cell_type": "code",
   "execution_count": 2,
   "metadata": {},
   "outputs": [
    {
     "name": "stdout",
     "output_type": "stream",
     "text": [
      "3 2 1 \n",
      "3 2 1 \n",
      "3 2 1 \n"
     ]
    }
   ],
   "source": [
    "for i in range(1, 4):\n",
    "    for j in range(3,0,-1):\n",
    "        print(j, end=' ')\n",
    "    print()\n"
   ]
  },
  {
   "cell_type": "code",
   "execution_count": 3,
   "metadata": {},
   "outputs": [
    {
     "name": "stdout",
     "output_type": "stream",
     "text": [
      "1 2 3 \n",
      "4 5 6 \n",
      "7 8 9 \n"
     ]
    }
   ],
   "source": [
    "num = 1\n",
    "for i in range(3):\n",
    "    for j in range(3):\n",
    "        print(num, end=' ')\n",
    "        num += 1\n",
    "    print()\n"
   ]
  },
  {
   "cell_type": "code",
   "execution_count": 4,
   "metadata": {},
   "outputs": [
    {
     "name": "stdout",
     "output_type": "stream",
     "text": [
      "c \n",
      "c c \n",
      "c c c \n",
      "c c c c \n"
     ]
    }
   ],
   "source": [
    "for i in range(1, 5):\n",
    "    for j in range(i):\n",
    "        print(\"c\", end=' ')\n",
    "    print()\n"
   ]
  },
  {
   "cell_type": "code",
   "execution_count": 5,
   "metadata": {},
   "outputs": [
    {
     "name": "stdout",
     "output_type": "stream",
     "text": [
      "1 \n",
      "2 3 \n",
      "4 5 6 \n",
      "7 8 9 10 \n"
     ]
    }
   ],
   "source": [
    "z =1\n",
    "for i in range(1,5):\n",
    "    for j in range(i):\n",
    "        print(z, end=' ')\n",
    "        z=z+1\n",
    "    print()"
   ]
  },
  {
   "cell_type": "code",
   "execution_count": 6,
   "metadata": {},
   "outputs": [
    {
     "name": "stdout",
     "output_type": "stream",
     "text": [
      "1 \n",
      "2 2 \n",
      "3 3 3 \n",
      "4 4 4 4 \n"
     ]
    }
   ],
   "source": [
    "for i in range(1,5):\n",
    "    for j in range(i):\n",
    "        print(i, end=' ')\n",
    "    print()"
   ]
  },
  {
   "cell_type": "code",
   "execution_count": 7,
   "metadata": {},
   "outputs": [
    {
     "name": "stdout",
     "output_type": "stream",
     "text": [
      "1 \n",
      "2 1 \n",
      "3 2 1 \n",
      "4 3 2 1 \n"
     ]
    }
   ],
   "source": [
    "for i in range(4):\n",
    "    for j in range(i+1,0,-1):\n",
    "        print(j, end=' ')\n",
    "    print()"
   ]
  },
  {
   "cell_type": "code",
   "execution_count": 8,
   "metadata": {},
   "outputs": [
    {
     "name": "stdout",
     "output_type": "stream",
     "text": [
      "A A A \n",
      "B B B \n",
      "C C C \n"
     ]
    }
   ],
   "source": [
    "for i in range(65, 68):\n",
    "    for j in range(3):\n",
    "        print(chr(i), end=' ')\n",
    "    print()\n"
   ]
  },
  {
   "cell_type": "code",
   "execution_count": 9,
   "metadata": {},
   "outputs": [
    {
     "name": "stdout",
     "output_type": "stream",
     "text": [
      "A B C \n",
      "A B C \n",
      "A B C \n"
     ]
    }
   ],
   "source": [
    "for i in range(3):\n",
    "    for j in range(65, 68):\n",
    "        print(chr(j), end=' ')\n",
    "    print()\n"
   ]
  },
  {
   "cell_type": "code",
   "execution_count": 18,
   "metadata": {},
   "outputs": [
    {
     "name": "stdout",
     "output_type": "stream",
     "text": [
      "A B C \n",
      "D E F \n",
      "G H I \n"
     ]
    }
   ],
   "source": [
    "num = 65  # Unicode code point of 'A'\n",
    "for i in range(3):\n",
    "    for j in range(3):\n",
    "        print(chr(num), end=' ')\n",
    "        num += 1\n",
    "    print()\n",
    "\n",
    "\n",
    "\n"
   ]
  },
  {
   "cell_type": "code",
   "execution_count": 27,
   "metadata": {},
   "outputs": [
    {
     "name": "stdout",
     "output_type": "stream",
     "text": [
      "A B C \n",
      "B C D \n",
      "C D E \n"
     ]
    }
   ],
   "source": [
    "for i in range(3):\n",
    "    for j in range(65,68):\n",
    "        print(chr(j+i), end= \" \")\n",
    "    print()"
   ]
  },
  {
   "cell_type": "code",
   "execution_count": 31,
   "metadata": {},
   "outputs": [
    {
     "name": "stdout",
     "output_type": "stream",
     "text": [
      "A B C \n",
      "C D E \n",
      "E F G \n"
     ]
    }
   ],
   "source": [
    "for i in range(3):\n",
    "    for j in range(65,68):\n",
    "        print(chr(j+i*2), end= \" \")\n",
    "    \n",
    "    print()"
   ]
  },
  {
   "cell_type": "code",
   "execution_count": 41,
   "metadata": {},
   "outputs": [
    {
     "name": "stdout",
     "output_type": "stream",
     "text": [
      "A \n",
      "B B \n",
      "C C C \n",
      "D D D D \n"
     ]
    }
   ],
   "source": [
    "for i in range (4):\n",
    "    for j in range (i+1):\n",
    "        print(chr(65+i), end =\" \")\n",
    "    print()    "
   ]
  },
  {
   "cell_type": "code",
   "execution_count": 53,
   "metadata": {},
   "outputs": [
    {
     "name": "stdout",
     "output_type": "stream",
     "text": [
      "A \n",
      "B C \n",
      "D E F \n",
      "G H I J \n"
     ]
    }
   ],
   "source": [
    "z =0\n",
    "for i in range(1,5):\n",
    "    for j in range(i):\n",
    "        print(chr(65+z), end=' ')\n",
    "        z=z+1\n",
    "    print()"
   ]
  },
  {
   "cell_type": "code",
   "execution_count": 57,
   "metadata": {},
   "outputs": [
    {
     "name": "stdout",
     "output_type": "stream",
     "text": [
      "A \n",
      "B C \n",
      "C D E \n",
      "D E F G \n"
     ]
    }
   ],
   "source": [
    "for i in range (4):\n",
    "    for j in range(i+1):\n",
    "        print(chr(65+i), end=\" \")\n",
    "        i=i+1\n",
    "    print()"
   ]
  },
  {
   "cell_type": "code",
   "execution_count": 61,
   "metadata": {},
   "outputs": [
    {
     "name": "stdout",
     "output_type": "stream",
     "text": [
      "D \n",
      "C D \n",
      "B C D \n",
      "A B C D \n"
     ]
    }
   ],
   "source": [
    "for i in range(4):\n",
    "    for j in range(i + 1):\n",
    "        print(chr(68 - i + j), end=' ')\n",
    "    print()\n"
   ]
  },
  {
   "cell_type": "code",
   "execution_count": 2,
   "metadata": {},
   "outputs": [
    {
     "name": "stdout",
     "output_type": "stream",
     "text": [
      "A B C \n",
      "B C D \n",
      "C D E \n"
     ]
    }
   ],
   "source": [
    "# A B C\n",
    "# B C D\n",
    "# C D E\n",
    "\n",
    "\n",
    "for i in range(3):\n",
    "    for j in range(3):\n",
    "        print(chr(65+i+j), end=\" \")\n",
    "    print()    "
   ]
  },
  {
   "cell_type": "code",
   "execution_count": 6,
   "metadata": {},
   "outputs": [
    {
     "name": "stdout",
     "output_type": "stream",
     "text": [
      "  * * \n",
      "*   * \n",
      "* *   \n"
     ]
    }
   ],
   "source": [
    "#     *\n",
    "#    **\n",
    "#   *** \n",
    "\n",
    "for i in range(3):\n",
    "    for j in range(3):\n",
    "        if i != j:\n",
    "         print(\"*\", end=\" \")\n",
    "        else:\n",
    "           print(\" \", end= \" \")\n",
    "    print()\n"
   ]
  },
  {
   "cell_type": "code",
   "execution_count": 7,
   "metadata": {},
   "outputs": [
    {
     "name": "stdout",
     "output_type": "stream",
     "text": [
      "  *\n",
      " **\n",
      "***\n"
     ]
    }
   ],
   "source": [
    "for i in range(3):\n",
    "    for j in range(3 - i - 1):\n",
    "        print(\" \", end='')\n",
    "    for k in range(i + 1):\n",
    "        print(\"*\", end='')\n",
    "    print()\n"
   ]
  },
  {
   "cell_type": "code",
   "execution_count": 15,
   "metadata": {},
   "outputs": [
    {
     "name": "stdout",
     "output_type": "stream",
     "text": [
      "*\n",
      "***\n",
      "*****\n"
     ]
    }
   ],
   "source": [
    "# *\n",
    "# ***\n",
    "# *****\n",
    "\n",
    "\n",
    "for i in range(1,6,2):\n",
    "    for j in range(i): \n",
    "      print(\"*\",end=\"\")\n",
    "    print()"
   ]
  },
  {
   "cell_type": "code",
   "execution_count": 35,
   "metadata": {},
   "outputs": [
    {
     "name": "stdout",
     "output_type": "stream",
     "text": [
      "$ $ $ * \n",
      "$ $ * * * \n",
      "$ * * * * * \n",
      "* * * * * * * \n"
     ]
    }
   ],
   "source": [
    "# $ $ $ * \n",
    "# $ $ * * * \n",
    "# $ * * * * * \n",
    "# * * * * * * *\n",
    "\n",
    "\n",
    "\n",
    "n=input(\"enter the number\")\n",
    "n=int(n)\n",
    "\n",
    "for i in range(n):\n",
    "    for j in range(n-i-1):\n",
    "         print(\"$\", end=\" \")        \n",
    "    for k in range(i+1):\n",
    "         print(\"*\", end=\" \")\n",
    "    for l in range(i):\n",
    "        print(\"*\", end=\" \")\n",
    "    print()    \n"
   ]
  },
  {
   "cell_type": "code",
   "execution_count": 30,
   "metadata": {},
   "outputs": [
    {
     "name": "stdout",
     "output_type": "stream",
     "text": [
      "  *\n",
      " ***\n",
      "*****\n"
     ]
    }
   ],
   "source": [
    "#   *\n",
    "#  ***\n",
    "# *****\n",
    "\n",
    "for i in range(3):\n",
    "    for j in range(2 - i, 0, -1):\n",
    "        print(\" \", end='')\n",
    "    for k in range(i * 2 + 1):\n",
    "        print(\"*\", end='')\n",
    "    print()\n"
   ]
  },
  {
   "cell_type": "code",
   "execution_count": 28,
   "metadata": {},
   "outputs": [
    {
     "name": "stdout",
     "output_type": "stream",
     "text": [
      "  1\n",
      " 121\n",
      "12321\n"
     ]
    }
   ],
   "source": [
    "#   1\n",
    "#  121\n",
    "# 12321\n",
    "\n",
    "\n",
    "z=1\n",
    "for i in range(3):\n",
    "    for j in range(2-i,0,-1):\n",
    "        print(\" \",end=\"\")\n",
    "\n",
    "    for k in range(1,i+1):\n",
    "        print(k,end=\"\")\n",
    "        \n",
    "\n",
    "        \n",
    "    for l in range(i+1,0,-1):\n",
    "        print(l,end=\"\")\n",
    "    print()    \n",
    "    \n",
    "\n"
   ]
  },
  {
   "cell_type": "code",
   "execution_count": 45,
   "metadata": {},
   "outputs": [
    {
     "name": "stdout",
     "output_type": "stream",
     "text": [
      "1234554321\n",
      "1234**4321\n",
      "123****321\n",
      "12******21\n",
      "1********1\n"
     ]
    }
   ],
   "source": [
    "# last Question\n",
    "\n",
    "for i in range(5):\n",
    "    for j in range(1,6-i,1):\n",
    "        print(j, end=\"\")\n",
    "\n",
    "    for k in range(0,i*2):\n",
    "        print(\"*\",end=\"\")\n",
    "    \n",
    "    for l in range(5-i,0,-1):\n",
    "        print(l,end=\"\")\n",
    "    print() "
   ]
  }
 ],
 "metadata": {
  "kernelspec": {
   "display_name": "Python 3",
   "language": "python",
   "name": "python3"
  },
  "language_info": {
   "codemirror_mode": {
    "name": "ipython",
    "version": 3
   },
   "file_extension": ".py",
   "mimetype": "text/x-python",
   "name": "python",
   "nbconvert_exporter": "python",
   "pygments_lexer": "ipython3",
   "version": "3.11.3"
  },
  "orig_nbformat": 4
 },
 "nbformat": 4,
 "nbformat_minor": 2
}
